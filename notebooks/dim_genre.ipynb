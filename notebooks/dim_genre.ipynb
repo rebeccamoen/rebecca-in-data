{
 "cells": [
  {
   "cell_type": "code",
   "execution_count": 0,
   "metadata": {
    "application/vnd.databricks.v1+cell": {
     "cellMetadata": {
      "byteLimit": 2048000,
      "rowLimit": 10000
     },
     "inputWidgets": {},
     "nuid": "29b9c269-ad27-4a6d-a9c7-e7ad2c172743",
     "showTitle": false,
     "tableResultSettingsMap": {},
     "title": ""
    }
   },
   "outputs": [],
   "source": [
    "CREATE OR REPLACE TEMP VIEW exploded_genres AS\n",
    "SELECT \n",
    "  movie_id,  \n",
    "  trim(genre_element) AS genre\n",
    "FROM hive_metastore.default.dim_movie\n",
    "LATERAL VIEW explode(split(genre, \",\")) AS genre_element;"
   ]
  },
  {
   "cell_type": "code",
   "execution_count": 0,
   "metadata": {
    "application/vnd.databricks.v1+cell": {
     "cellMetadata": {
      "byteLimit": 2048000,
      "rowLimit": 10000
     },
     "inputWidgets": {},
     "nuid": "b864bbd8-49ab-49ee-a062-aa127cb52e42",
     "showTitle": false,
     "tableResultSettingsMap": {},
     "title": ""
    }
   },
   "outputs": [],
   "source": [
    "CREATE OR REPLACE TABLE hive_metastore.default.dim_genre AS\n",
    "SELECT \n",
    "  ROW_NUMBER() OVER (ORDER BY genre) AS genre_id,  \n",
    "  TRIM(genre) AS genre\n",
    "FROM (\n",
    "  SELECT DISTINCT TRIM(genre) AS genre\n",
    "  FROM exploded_genres\n",
    ") t;"
   ]
  },
  {
   "cell_type": "code",
   "execution_count": 0,
   "metadata": {
    "application/vnd.databricks.v1+cell": {
     "cellMetadata": {
      "byteLimit": 2048000,
      "rowLimit": 10000
     },
     "inputWidgets": {},
     "nuid": "fd431dbb-a9df-4430-8a10-1caff0669a55",
     "showTitle": false,
     "tableResultSettingsMap": {},
     "title": ""
    }
   },
   "outputs": [],
   "source": [
    "SELECT * FROM hive_metastore.default.dim_genre;"
   ]
  },
  {
   "cell_type": "code",
   "execution_count": 0,
   "metadata": {
    "application/vnd.databricks.v1+cell": {
     "cellMetadata": {
      "byteLimit": 2048000,
      "rowLimit": 10000
     },
     "inputWidgets": {},
     "nuid": "7b2cc7dd-c4b5-46b8-9c93-b1d93a03cc28",
     "showTitle": false,
     "tableResultSettingsMap": {},
     "title": ""
    }
   },
   "outputs": [],
   "source": [
    "CREATE OR REPLACE TABLE hive_metastore.default.bridge_movie_genre AS\n",
    "SELECT DISTINCT \n",
    "  eg.movie_id, \n",
    "  dg.genre_id\n",
    "FROM exploded_genres eg\n",
    "JOIN hive_metastore.default.dim_genre dg \n",
    "  ON TRIM(eg.genre) = dg.genre;"
   ]
  },
  {
   "cell_type": "code",
   "execution_count": 0,
   "metadata": {
    "application/vnd.databricks.v1+cell": {
     "cellMetadata": {
      "byteLimit": 2048000,
      "rowLimit": 10000
     },
     "inputWidgets": {},
     "nuid": "e387920d-838f-45e7-a717-2db185319d74",
     "showTitle": false,
     "tableResultSettingsMap": {},
     "title": ""
    }
   },
   "outputs": [],
   "source": [
    "SELECT \n",
    "  bmg.movie_id,  \n",
    "  COLLECT_LIST(dg.genre) AS genres\n",
    "FROM hive_metastore.default.bridge_movie_genre bmg\n",
    "JOIN hive_metastore.default.dim_genre dg  \n",
    "  ON bmg.genre_id = dg.genre_id\n",
    "GROUP BY bmg.movie_id\n",
    "ORDER BY bmg.movie_id;"
   ]
  }
 ],
 "metadata": {
  "application/vnd.databricks.v1+notebook": {
   "computePreferences": null,
   "dashboards": [],
   "environmentMetadata": {
    "base_environment": "",
    "environment_version": "2"
   },
   "inputWidgetPreferences": null,
   "language": "sql",
   "notebookMetadata": {},
   "notebookName": "dim_genre",
   "widgets": {}
  },
  "language_info": {
   "name": "sql"
  }
 },
 "nbformat": 4,
 "nbformat_minor": 0
}
