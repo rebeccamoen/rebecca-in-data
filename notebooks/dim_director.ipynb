{
 "cells": [
  {
   "cell_type": "code",
   "execution_count": 0,
   "metadata": {
    "application/vnd.databricks.v1+cell": {
     "cellMetadata": {
      "byteLimit": 2048000,
      "rowLimit": 10000
     },
     "inputWidgets": {},
     "nuid": "e80dc6fb-a7bc-4947-90f2-8934398d4460",
     "showTitle": false,
     "tableResultSettingsMap": {},
     "title": ""
    }
   },
   "outputs": [],
   "source": [
    "CREATE OR REPLACE TEMP VIEW exploded_directors AS\n",
    "SELECT \n",
    "  movie_id,  \n",
    "  trim(director_element) AS director\n",
    "FROM \n",
    "  hive_metastore.default.dim_movie\n",
    "LATERAL VIEW explode(split(director, \",\")) AS director_element;"
   ]
  },
  {
   "cell_type": "code",
   "execution_count": 0,
   "metadata": {
    "application/vnd.databricks.v1+cell": {
     "cellMetadata": {
      "byteLimit": 2048000,
      "rowLimit": 10000
     },
     "inputWidgets": {},
     "nuid": "5c3bf0ff-fa5e-491b-bcbb-c0b2e14dc95b",
     "showTitle": false,
     "tableResultSettingsMap": {},
     "title": ""
    }
   },
   "outputs": [],
   "source": [
    "CREATE OR REPLACE TABLE hive_metastore.default.dim_director AS\n",
    "SELECT \n",
    "  ROW_NUMBER() OVER (ORDER BY director) AS director_id,  \n",
    "  TRIM(director) AS director  \n",
    "FROM (\n",
    "  SELECT DISTINCT TRIM(director) AS director\n",
    "  FROM exploded_directors\n",
    ") t;"
   ]
  },
  {
   "cell_type": "code",
   "execution_count": 0,
   "metadata": {
    "application/vnd.databricks.v1+cell": {
     "cellMetadata": {
      "byteLimit": 2048000,
      "rowLimit": 10000
     },
     "inputWidgets": {},
     "nuid": "69e5280a-0cb4-4a7c-88a8-bf145a6cda06",
     "showTitle": false,
     "tableResultSettingsMap": {},
     "title": ""
    }
   },
   "outputs": [],
   "source": [
    "CREATE OR REPLACE TABLE hive_metastore.default.bridge_movie_director AS\n",
    "SELECT DISTINCT \n",
    "  ed.movie_id,  \n",
    "  dd.director_id\n",
    "FROM exploded_directors ed\n",
    "JOIN hive_metastore.default.dim_director dd  \n",
    "  ON TRIM(ed.director) = dd.director;"
   ]
  },
  {
   "cell_type": "code",
   "execution_count": 0,
   "metadata": {
    "application/vnd.databricks.v1+cell": {
     "cellMetadata": {
      "byteLimit": 2048000,
      "rowLimit": 10000
     },
     "inputWidgets": {},
     "nuid": "4fadfc83-7265-4bc4-b433-3756620f5a59",
     "showTitle": false,
     "tableResultSettingsMap": {},
     "title": ""
    }
   },
   "outputs": [],
   "source": [
    "SELECT * \n",
    "FROM hive_metastore.default.bridge_movie_director \n",
    "LIMIT 10;"
   ]
  }
 ],
 "metadata": {
  "application/vnd.databricks.v1+notebook": {
   "computePreferences": null,
   "dashboards": [],
   "environmentMetadata": {
    "base_environment": "",
    "environment_version": "2"
   },
   "inputWidgetPreferences": null,
   "language": "sql",
   "notebookMetadata": {},
   "notebookName": "dim_director",
   "widgets": {}
  },
  "language_info": {
   "name": "sql"
  }
 },
 "nbformat": 4,
 "nbformat_minor": 0
}
