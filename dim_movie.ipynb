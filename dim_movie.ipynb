{
 "cells": [
  {
   "cell_type": "code",
   "execution_count": 0,
   "metadata": {
    "application/vnd.databricks.v1+cell": {
     "cellMetadata": {
      "byteLimit": 2048000,
      "rowLimit": 10000
     },
     "inputWidgets": {},
     "nuid": "97f8f3d8-30a4-4744-b3eb-52f53a93cdb6",
     "showTitle": false,
     "tableResultSettingsMap": {},
     "title": ""
    }
   },
   "outputs": [],
   "source": [
    "SELECT * FROM hive_metastore.default.imdb_raw LIMIT 10;"
   ]
  },
  {
   "cell_type": "code",
   "execution_count": 0,
   "metadata": {
    "application/vnd.databricks.v1+cell": {
     "cellMetadata": {
      "byteLimit": 2048000,
      "rowLimit": 10000
     },
     "inputWidgets": {},
     "nuid": "d4219269-45cd-4e52-a94d-93baaff9ce30",
     "showTitle": false,
     "tableResultSettingsMap": {},
     "title": ""
    }
   },
   "outputs": [],
   "source": [
    "CREATE OR REPLACE TABLE hive_metastore.default.dim_movie AS\n",
    "SELECT DISTINCT\n",
    "  Const AS movie_id,\n",
    "  Title AS title,\n",
    "  `Original Title` AS original_title,\n",
    "  Year AS year,\n",
    "  `Release Date` AS release_date,\n",
    "  `IMDb Rating` AS imdb_rating,\n",
    "  `Num Votes` AS num_votes,\n",
    "  `Runtime (mins)` AS runtime,\n",
    "  Genres AS genre,\n",
    "  Directors AS director,\n",
    "  URL AS url\n",
    "FROM hive_metastore.default.imdb_raw\n",
    "WHERE `Title Type` = 'Movie';"
   ]
  },
  {
   "cell_type": "code",
   "execution_count": 0,
   "metadata": {
    "application/vnd.databricks.v1+cell": {
     "cellMetadata": {
      "byteLimit": 2048000,
      "rowLimit": 10000
     },
     "inputWidgets": {},
     "nuid": "cdf7b46c-b823-4d91-a7ad-4d26dc46fc16",
     "showTitle": false,
     "tableResultSettingsMap": {},
     "title": ""
    }
   },
   "outputs": [],
   "source": [
    "SELECT * FROM hive_metastore.default.dim_movie LIMIT 20;"
   ]
  }
 ],
 "metadata": {
  "application/vnd.databricks.v1+notebook": {
   "computePreferences": null,
   "dashboards": [],
   "environmentMetadata": {
    "base_environment": "",
    "environment_version": "2"
   },
   "inputWidgetPreferences": null,
   "language": "sql",
   "notebookMetadata": {},
   "notebookName": "dim_movie",
   "widgets": {}
  },
  "language_info": {
   "name": "sql"
  }
 },
 "nbformat": 4,
 "nbformat_minor": 0
}
