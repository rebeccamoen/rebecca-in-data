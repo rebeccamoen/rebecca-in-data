{
 "cells": [
  {
   "cell_type": "code",
   "execution_count": 0,
   "metadata": {
    "application/vnd.databricks.v1+cell": {
     "cellMetadata": {
      "byteLimit": 2048000,
      "rowLimit": 10000
     },
     "inputWidgets": {},
     "nuid": "8079157f-f59b-4d24-866f-436ca9798a6d",
     "showTitle": false,
     "tableResultSettingsMap": {},
     "title": ""
    }
   },
   "outputs": [],
   "source": [
    "SELECT * FROM hive_metastore.default.imdb_raw LIMIT 10;"
   ]
  },
  {
   "cell_type": "code",
   "execution_count": 0,
   "metadata": {
    "application/vnd.databricks.v1+cell": {
     "cellMetadata": {
      "byteLimit": 2048000,
      "rowLimit": 10000
     },
     "inputWidgets": {},
     "nuid": "ec6026fb-60d5-485a-b696-8bb29d0c9516",
     "showTitle": false,
     "tableResultSettingsMap": {},
     "title": ""
    }
   },
   "outputs": [],
   "source": [
    "CREATE OR REPLACE TABLE hive_metastore.default.dim_movie AS\n",
    "SELECT DISTINCT\n",
    "  Const AS movie_id,\n",
    "  Title AS title,\n",
    "  `Original Title` AS original_title,\n",
    "  Year AS year,\n",
    "  `Release Date` AS release_date,\n",
    "  `IMDb Rating` AS imdb_rating,\n",
    "  `Num Votes` AS num_votes,\n",
    "  `Runtime (mins)` AS runtime,\n",
    "  Genres AS genre,\n",
    "  Directors AS director,\n",
    "  URL AS url\n",
    "FROM hive_metastore.default.imdb_raw\n",
    "WHERE `Title Type` = 'Movie';\n"
   ]
  },
  {
   "cell_type": "code",
   "execution_count": 0,
   "metadata": {
    "application/vnd.databricks.v1+cell": {
     "cellMetadata": {
      "byteLimit": 2048000,
      "rowLimit": 10000
     },
     "inputWidgets": {},
     "nuid": "049a6a9c-5d66-4019-a760-70419eaba61e",
     "showTitle": false,
     "tableResultSettingsMap": {},
     "title": ""
    }
   },
   "outputs": [],
   "source": [
    "SELECT * FROM hive_metastore.default.dim_movie LIMIT 20;"
   ]
  },
  {
   "cell_type": "code",
   "execution_count": 0,
   "metadata": {
    "application/vnd.databricks.v1+cell": {
     "cellMetadata": {
      "byteLimit": 2048000,
      "rowLimit": 10000
     },
     "inputWidgets": {},
     "nuid": "fa03bd72-267a-40af-9646-a62410b7f554",
     "showTitle": false,
     "tableResultSettingsMap": {},
     "title": ""
    }
   },
   "outputs": [],
   "source": [
    "CREATE OR REPLACE TEMP VIEW exploded_genres AS\n",
    "SELECT \n",
    "  movie_id,  \n",
    "  trim(genre_element) AS genre\n",
    "FROM hive_metastore.default.dim_movie\n",
    "LATERAL VIEW explode(split(genre, \",\")) AS genre_element;"
   ]
  },
  {
   "cell_type": "code",
   "execution_count": 0,
   "metadata": {
    "application/vnd.databricks.v1+cell": {
     "cellMetadata": {
      "byteLimit": 2048000,
      "rowLimit": 10000
     },
     "inputWidgets": {},
     "nuid": "a4a0355f-63a1-4f41-b8ba-2285e13cd07f",
     "showTitle": false,
     "tableResultSettingsMap": {},
     "title": ""
    }
   },
   "outputs": [],
   "source": [
    "CREATE OR REPLACE TABLE hive_metastore.default.dim_genre AS\n",
    "SELECT \n",
    "  ROW_NUMBER() OVER (ORDER BY genre) AS genre_id,\n",
    "  TRIM(genre) AS genre\n",
    "FROM (\n",
    "  SELECT DISTINCT TRIM(genre) AS genre\n",
    "  FROM exploded_genres\n",
    ") t;\n",
    "        "
   ]
  },
  {
   "cell_type": "code",
   "execution_count": 0,
   "metadata": {
    "application/vnd.databricks.v1+cell": {
     "cellMetadata": {
      "byteLimit": 2048000,
      "rowLimit": 10000
     },
     "inputWidgets": {},
     "nuid": "18a55d4d-47ed-4210-ac80-34d17b4fac39",
     "showTitle": false,
     "tableResultSettingsMap": {},
     "title": ""
    }
   },
   "outputs": [],
   "source": [
    "SELECT * FROM hive_metastore.default.dim_genre;"
   ]
  },
  {
   "cell_type": "code",
   "execution_count": 0,
   "metadata": {
    "application/vnd.databricks.v1+cell": {
     "cellMetadata": {
      "byteLimit": 2048000,
      "rowLimit": 10000
     },
     "inputWidgets": {},
     "nuid": "eca75443-f3fa-4f45-857a-b6e4a06917a7",
     "showTitle": false,
     "tableResultSettingsMap": {},
     "title": ""
    }
   },
   "outputs": [],
   "source": [
    "CREATE OR REPLACE TABLE hive_metastore.default.bridge_movie_genre AS\n",
    "SELECT DISTINCT\n",
    "  eg.movie_id,\n",
    "  dg.genre_id\n",
    "FROM exploded_genres eg\n",
    "JOIN hive_metastore.default.dim_genre dg\n",
    "  ON TRIM(eg.genre) = dg.genre;"
   ]
  },
  {
   "cell_type": "code",
   "execution_count": 0,
   "metadata": {
    "application/vnd.databricks.v1+cell": {
     "cellMetadata": {
      "byteLimit": 2048000,
      "rowLimit": 10000
     },
     "inputWidgets": {},
     "nuid": "fa23a1f3-d3a6-4f4c-b6a2-3e76f8dfa63b",
     "showTitle": false,
     "tableResultSettingsMap": {},
     "title": ""
    }
   },
   "outputs": [],
   "source": [
    "SELECT \n",
    "  bmg.movie_id,\n",
    "  COLLECT_LIST(dg.genre) AS genres\n",
    "FROM hive_metastore.default.bridge_movie_genre bmg\n",
    "JOIN hive_metastore.default.dim_genre dg\n",
    "  ON bmg.genre_id = dg.genre_id\n",
    "GROUP BY bmg.movie_id\n",
    "ORDER BY bmg.movie_id;"
   ]
  },
  {
   "cell_type": "code",
   "execution_count": 0,
   "metadata": {
    "application/vnd.databricks.v1+cell": {
     "cellMetadata": {
      "byteLimit": 2048000,
      "rowLimit": 10000
     },
     "inputWidgets": {},
     "nuid": "ab6354d0-3acb-44ce-942d-27c825617d91",
     "showTitle": false,
     "tableResultSettingsMap": {},
     "title": ""
    }
   },
   "outputs": [],
   "source": [
    "CREATE OR REPLACE TEMP VIEW exploded_directors AS\n",
    "SELECT\n",
    "  movie_id,\n",
    "  trim(director_element) AS director\n",
    "FROM hive_metastore.default.dim_movie\n",
    "LATERAL VIEW explode(split(director, \",\")) AS director_element;"
   ]
  },
  {
   "cell_type": "code",
   "execution_count": 0,
   "metadata": {
    "application/vnd.databricks.v1+cell": {
     "cellMetadata": {
      "byteLimit": 2048000,
      "rowLimit": 10000
     },
     "inputWidgets": {},
     "nuid": "c4c1cec8-24fd-48ad-9a05-671579dc9085",
     "showTitle": false,
     "tableResultSettingsMap": {},
     "title": ""
    }
   },
   "outputs": [],
   "source": [
    "CREATE OR REPLACE TABLE hive_metastore.default.dim_director AS\n",
    "SELECT\n",
    "  ROW_NUMBER() OVER (ORDER BY director) AS director_id,\n",
    "  TRIM(director) AS director\n",
    "  FROM (\n",
    "    SELECT DISTINCT TRIM(director) AS director\n",
    "    FROM exploded_directors\n",
    "  ) t;"
   ]
  },
  {
   "cell_type": "code",
   "execution_count": 0,
   "metadata": {
    "application/vnd.databricks.v1+cell": {
     "cellMetadata": {
      "byteLimit": 2048000,
      "rowLimit": 10000
     },
     "inputWidgets": {},
     "nuid": "a553b156-2760-4acf-a1da-306328f9a544",
     "showTitle": false,
     "tableResultSettingsMap": {},
     "title": ""
    }
   },
   "outputs": [],
   "source": [
    "CREATE OR REPLACE TABLE hive_metastore.default.bridge_movie_director AS\n",
    "SELECT DISTINCT\n",
    "  ed.movie_id,\n",
    "  dd.director_id\n",
    "FROM exploded_directors ed\n",
    "JOIN hive_metastore.default.dim_director dd\n",
    "  ON TRIM(ed.director) = dd.director;"
   ]
  },
  {
   "cell_type": "code",
   "execution_count": 0,
   "metadata": {
    "application/vnd.databricks.v1+cell": {
     "cellMetadata": {
      "byteLimit": 2048000,
      "rowLimit": 10000
     },
     "inputWidgets": {},
     "nuid": "8b85e65f-ef75-44ca-a2b9-b6cbd087f4fe",
     "showTitle": false,
     "tableResultSettingsMap": {},
     "title": ""
    }
   },
   "outputs": [],
   "source": [
    "SELECT *\n",
    "FROM hive_metastore.default.bridge_movie_director\n",
    "LIMIT 10;"
   ]
  },
  {
   "cell_type": "code",
   "execution_count": 0,
   "metadata": {
    "application/vnd.databricks.v1+cell": {
     "cellMetadata": {},
     "inputWidgets": {},
     "nuid": "1522e0bc-d497-4ad2-a1ad-c9fc2e0940f6",
     "showTitle": false,
     "tableResultSettingsMap": {},
     "title": ""
    }
   },
   "outputs": [],
   "source": []
  }
 ],
 "metadata": {
  "application/vnd.databricks.v1+notebook": {
   "computePreferences": null,
   "dashboards": [],
   "environmentMetadata": {
    "base_environment": "",
    "environment_version": "2"
   },
   "inputWidgetPreferences": null,
   "language": "sql",
   "notebookMetadata": {
    "pythonIndentUnit": 4
   },
   "notebookName": "data_modeling_imdb",
   "widgets": {}
  },
  "language_info": {
   "name": "sql"
  }
 },
 "nbformat": 4,
 "nbformat_minor": 0
}
